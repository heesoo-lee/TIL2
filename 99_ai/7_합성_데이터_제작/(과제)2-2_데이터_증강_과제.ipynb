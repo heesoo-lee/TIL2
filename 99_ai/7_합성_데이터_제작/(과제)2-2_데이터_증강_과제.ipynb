{
 "cells": [
  {
   "cell_type": "markdown",
   "metadata": {
    "id": "4O_zgP34Gt0K"
   },
   "source": [
    "### **Content License Agreement**\n",
    "\n",
    "<font color='red'><b>**WARNING**</b></font> : 본 자료는 삼성 청년 SW아카데미의 컨텐츠 자산으로, 보안서약서에 의거하여 어떠한 사유로도 임의로 복사, 촬영, 녹음, 복제, 보관, 전송하거나 허가 받지 않은 저장매체를 이용한 보관, 제3자에게 누설, 공개 또는 사용하는 등의 무단 사용 및 불법 배포 시 법적 조치를 받을 수 있습니다."
   ]
  },
  {
   "cell_type": "markdown",
   "metadata": {
    "id": "wBMRC-8eG2Fh"
   },
   "source": [
    "### **Objectives**\n",
    "\n",
    "1. 실습명 : 데이터 증강\n",
    "2. 핵심 주제:\n",
    "    1. 환경 설정 및 기본 함수 이해\n",
    "    2. 데이터 '증강'을 위한 Prompt Engineering\n",
    "    3. 증강 데이터 평가\n",
    "3. 학습 목표 :\n",
    "    1. 과제 진행에 필요한 라이브러리와 API 정보를 설정\n",
    "    2. `Text-to-SQL` task를 위한 학습 데이터를 생성\n",
    "    3. 생성된 데이터의 품질을 자동으로 평가하는 '평가자(Judge)' LLM을 설계\n",
    "4. 학습 개념: 키워드명 :\n",
    "    1. API 통신\n",
    "    2. Prompt Engineering\n",
    "    3. LLM as Judge\n",
    "  \n",
    "5. 학습 방향 :\n",
    "  - 실습은 기본적인 API 통신을 통해 데이터를 생성하고, 증강 데이터의 품질을 평가하는 '평가자(Judge)' LLM을 설계하는 과정을 통해 학습됩니다.\n",
    "  - 실습 코드는 조교가 직접 구현한 코드를 참고하며 학습합니다.\n",
    "  - 해당 실습에 정답은 없으므로 자신이 옳다고 생각하는 나름의 근거를 세워가며 학습합니다.\n",
    "\n"
   ]
  },
  {
   "cell_type": "markdown",
   "metadata": {
    "id": "EhMJqtdyG40p"
   },
   "source": [
    "### **Prerequisites**\n"
   ]
  },
  {
   "cell_type": "code",
   "execution_count": null,
   "metadata": {
    "colab": {
     "base_uri": "https://localhost:8080/"
    },
    "executionInfo": {
     "elapsed": 28825,
     "status": "ok",
     "timestamp": 1760689607339,
     "user": {
      "displayName": "S H",
      "userId": "07486973781233731858"
     },
     "user_tz": -540
    },
    "id": "R4kaQwhjugy_",
    "outputId": "9401a738-614f-439b-e0e6-5a08b0125139"
   },
   "outputs": [
    {
     "name": "stdout",
     "output_type": "stream",
     "text": [
      "Collecting dotenv==0.9.9\n",
      "  Downloading dotenv-0.9.9-py2.py3-none-any.whl.metadata (279 bytes)\n",
      "Collecting openai==1.100.0\n",
      "  Downloading openai-1.100.0-py3-none-any.whl.metadata (29 kB)\n",
      "Requirement already satisfied: datasets==4.0.0 in /usr/local/lib/python3.12/dist-packages (4.0.0)\n",
      "Requirement already satisfied: python-dotenv in /usr/local/lib/python3.12/dist-packages (from dotenv==0.9.9) (1.1.1)\n",
      "Requirement already satisfied: anyio<5,>=3.5.0 in /usr/local/lib/python3.12/dist-packages (from openai==1.100.0) (4.11.0)\n",
      "Requirement already satisfied: distro<2,>=1.7.0 in /usr/local/lib/python3.12/dist-packages (from openai==1.100.0) (1.9.0)\n",
      "Requirement already satisfied: httpx<1,>=0.23.0 in /usr/local/lib/python3.12/dist-packages (from openai==1.100.0) (0.28.1)\n",
      "Requirement already satisfied: jiter<1,>=0.4.0 in /usr/local/lib/python3.12/dist-packages (from openai==1.100.0) (0.11.0)\n",
      "Requirement already satisfied: pydantic<3,>=1.9.0 in /usr/local/lib/python3.12/dist-packages (from openai==1.100.0) (2.11.10)\n",
      "Requirement already satisfied: sniffio in /usr/local/lib/python3.12/dist-packages (from openai==1.100.0) (1.3.1)\n",
      "Requirement already satisfied: tqdm>4 in /usr/local/lib/python3.12/dist-packages (from openai==1.100.0) (4.67.1)\n",
      "Requirement already satisfied: typing-extensions<5,>=4.11 in /usr/local/lib/python3.12/dist-packages (from openai==1.100.0) (4.15.0)\n",
      "Requirement already satisfied: filelock in /usr/local/lib/python3.12/dist-packages (from datasets==4.0.0) (3.20.0)\n",
      "Requirement already satisfied: numpy>=1.17 in /usr/local/lib/python3.12/dist-packages (from datasets==4.0.0) (2.0.2)\n",
      "Requirement already satisfied: pyarrow>=15.0.0 in /usr/local/lib/python3.12/dist-packages (from datasets==4.0.0) (18.1.0)\n",
      "Requirement already satisfied: dill<0.3.9,>=0.3.0 in /usr/local/lib/python3.12/dist-packages (from datasets==4.0.0) (0.3.8)\n",
      "Requirement already satisfied: pandas in /usr/local/lib/python3.12/dist-packages (from datasets==4.0.0) (2.2.2)\n",
      "Requirement already satisfied: requests>=2.32.2 in /usr/local/lib/python3.12/dist-packages (from datasets==4.0.0) (2.32.4)\n",
      "Requirement already satisfied: xxhash in /usr/local/lib/python3.12/dist-packages (from datasets==4.0.0) (3.6.0)\n",
      "Requirement already satisfied: multiprocess<0.70.17 in /usr/local/lib/python3.12/dist-packages (from datasets==4.0.0) (0.70.16)\n",
      "Requirement already satisfied: fsspec<=2025.3.0,>=2023.1.0 in /usr/local/lib/python3.12/dist-packages (from fsspec[http]<=2025.3.0,>=2023.1.0->datasets==4.0.0) (2025.3.0)\n",
      "Requirement already satisfied: huggingface-hub>=0.24.0 in /usr/local/lib/python3.12/dist-packages (from datasets==4.0.0) (0.35.3)\n",
      "Requirement already satisfied: packaging in /usr/local/lib/python3.12/dist-packages (from datasets==4.0.0) (25.0)\n",
      "Requirement already satisfied: pyyaml>=5.1 in /usr/local/lib/python3.12/dist-packages (from datasets==4.0.0) (6.0.3)\n",
      "Requirement already satisfied: idna>=2.8 in /usr/local/lib/python3.12/dist-packages (from anyio<5,>=3.5.0->openai==1.100.0) (3.10)\n",
      "Requirement already satisfied: aiohttp!=4.0.0a0,!=4.0.0a1 in /usr/local/lib/python3.12/dist-packages (from fsspec[http]<=2025.3.0,>=2023.1.0->datasets==4.0.0) (3.13.0)\n",
      "Requirement already satisfied: certifi in /usr/local/lib/python3.12/dist-packages (from httpx<1,>=0.23.0->openai==1.100.0) (2025.10.5)\n",
      "Requirement already satisfied: httpcore==1.* in /usr/local/lib/python3.12/dist-packages (from httpx<1,>=0.23.0->openai==1.100.0) (1.0.9)\n",
      "Requirement already satisfied: h11>=0.16 in /usr/local/lib/python3.12/dist-packages (from httpcore==1.*->httpx<1,>=0.23.0->openai==1.100.0) (0.16.0)\n",
      "Requirement already satisfied: hf-xet<2.0.0,>=1.1.3 in /usr/local/lib/python3.12/dist-packages (from huggingface-hub>=0.24.0->datasets==4.0.0) (1.1.10)\n",
      "Requirement already satisfied: annotated-types>=0.6.0 in /usr/local/lib/python3.12/dist-packages (from pydantic<3,>=1.9.0->openai==1.100.0) (0.7.0)\n",
      "Requirement already satisfied: pydantic-core==2.33.2 in /usr/local/lib/python3.12/dist-packages (from pydantic<3,>=1.9.0->openai==1.100.0) (2.33.2)\n",
      "Requirement already satisfied: typing-inspection>=0.4.0 in /usr/local/lib/python3.12/dist-packages (from pydantic<3,>=1.9.0->openai==1.100.0) (0.4.2)\n",
      "Requirement already satisfied: charset_normalizer<4,>=2 in /usr/local/lib/python3.12/dist-packages (from requests>=2.32.2->datasets==4.0.0) (3.4.3)\n",
      "Requirement already satisfied: urllib3<3,>=1.21.1 in /usr/local/lib/python3.12/dist-packages (from requests>=2.32.2->datasets==4.0.0) (2.5.0)\n",
      "Requirement already satisfied: python-dateutil>=2.8.2 in /usr/local/lib/python3.12/dist-packages (from pandas->datasets==4.0.0) (2.9.0.post0)\n",
      "Requirement already satisfied: pytz>=2020.1 in /usr/local/lib/python3.12/dist-packages (from pandas->datasets==4.0.0) (2025.2)\n",
      "Requirement already satisfied: tzdata>=2022.7 in /usr/local/lib/python3.12/dist-packages (from pandas->datasets==4.0.0) (2025.2)\n",
      "Requirement already satisfied: aiohappyeyeballs>=2.5.0 in /usr/local/lib/python3.12/dist-packages (from aiohttp!=4.0.0a0,!=4.0.0a1->fsspec[http]<=2025.3.0,>=2023.1.0->datasets==4.0.0) (2.6.1)\n",
      "Requirement already satisfied: aiosignal>=1.4.0 in /usr/local/lib/python3.12/dist-packages (from aiohttp!=4.0.0a0,!=4.0.0a1->fsspec[http]<=2025.3.0,>=2023.1.0->datasets==4.0.0) (1.4.0)\n",
      "Requirement already satisfied: attrs>=17.3.0 in /usr/local/lib/python3.12/dist-packages (from aiohttp!=4.0.0a0,!=4.0.0a1->fsspec[http]<=2025.3.0,>=2023.1.0->datasets==4.0.0) (25.4.0)\n",
      "Requirement already satisfied: frozenlist>=1.1.1 in /usr/local/lib/python3.12/dist-packages (from aiohttp!=4.0.0a0,!=4.0.0a1->fsspec[http]<=2025.3.0,>=2023.1.0->datasets==4.0.0) (1.8.0)\n",
      "Requirement already satisfied: multidict<7.0,>=4.5 in /usr/local/lib/python3.12/dist-packages (from aiohttp!=4.0.0a0,!=4.0.0a1->fsspec[http]<=2025.3.0,>=2023.1.0->datasets==4.0.0) (6.7.0)\n",
      "Requirement already satisfied: propcache>=0.2.0 in /usr/local/lib/python3.12/dist-packages (from aiohttp!=4.0.0a0,!=4.0.0a1->fsspec[http]<=2025.3.0,>=2023.1.0->datasets==4.0.0) (0.3.2)\n",
      "Requirement already satisfied: yarl<2.0,>=1.17.0 in /usr/local/lib/python3.12/dist-packages (from aiohttp!=4.0.0a0,!=4.0.0a1->fsspec[http]<=2025.3.0,>=2023.1.0->datasets==4.0.0) (1.22.0)\n",
      "Requirement already satisfied: six>=1.5 in /usr/local/lib/python3.12/dist-packages (from python-dateutil>=2.8.2->pandas->datasets==4.0.0) (1.17.0)\n",
      "Downloading dotenv-0.9.9-py2.py3-none-any.whl (1.9 kB)\n",
      "Downloading openai-1.100.0-py3-none-any.whl (786 kB)\n",
      "\u001b[2K   \u001b[90m━━━━━━━━━━━━━━━━━━━━━━━━━━━━━━━━━━━━━━━━\u001b[0m \u001b[32m786.5/786.5 kB\u001b[0m \u001b[31m6.7 MB/s\u001b[0m eta \u001b[36m0:00:00\u001b[0m\n",
      "\u001b[?25hInstalling collected packages: dotenv, openai\n",
      "  Attempting uninstall: openai\n",
      "    Found existing installation: openai 1.109.1\n",
      "    Uninstalling openai-1.109.1:\n",
      "      Successfully uninstalled openai-1.109.1\n",
      "Successfully installed dotenv-0.9.9 openai-1.100.0\n"
     ]
    }
   ],
   "source": [
    "%pip install dotenv==0.9.9 openai==1.100.0 datasets==4.0.0"
   ]
  },
  {
   "cell_type": "markdown",
   "metadata": {
    "id": "8-_D1uG2G67l"
   },
   "source": [
    "# 1. 환경설정\n",
    "\n",
    "- os environment variable 설정을 진행합니다.\n"
   ]
  },
  {
   "cell_type": "markdown",
   "metadata": {
    "id": "80ESaQFmugzC"
   },
   "source": [
    "### 1.1. os environment variable\n",
    "\n",
    "실습 코드에서 처럼 Upstage_API_Key 설정을 위해서 환경변수를 설정합니다."
   ]
  },
  {
   "cell_type": "markdown",
   "metadata": {
    "id": "oxMRnQGpugzE"
   },
   "source": [
    "구글 드라이브에 mount를 합니다."
   ]
  },
  {
   "cell_type": "code",
   "execution_count": null,
   "metadata": {
    "colab": {
     "base_uri": "https://localhost:8080/"
    },
    "executionInfo": {
     "elapsed": 7701,
     "status": "ok",
     "timestamp": 1760690243411,
     "user": {
      "displayName": "S H",
      "userId": "07486973781233731858"
     },
     "user_tz": -540
    },
    "id": "Cbe2PXkfugzF",
    "outputId": "cfc396ed-99af-4bf0-f159-ffd3dd0dacba"
   },
   "outputs": [
    {
     "name": "stdout",
     "output_type": "stream",
     "text": [
      "Mounted at /content/drive\n"
     ]
    }
   ],
   "source": [
    "from google.colab import drive\n",
    "drive.mount(\"/content/drive\")"
   ]
  },
  {
   "cell_type": "markdown",
   "metadata": {
    "id": "lIs2qaQeugzG"
   },
   "source": [
    "mount한 이후 아래 코드를 실행하여 .env 파일을 생성합니다.\n",
    "\n",
    "API key는 [Upstage Console](https://console.upstage.ai/docs/getting-started)을 확인해주세요."
   ]
  },
  {
   "cell_type": "code",
   "execution_count": null,
   "metadata": {
    "id": "DMl7K9rougzG"
   },
   "outputs": [],
   "source": [
    "# 실습코드를 실행하셨다면 다시 진행하지 않으셔도 됩니다.\n",
    "your_api_key = \"\" # 여기에 Upstage API 키를 입력하세요.\n",
    "!echo \"UPSTAGE_API_KEY={your_api_key}\" > \"/content/.env\""
   ]
  },
  {
   "cell_type": "markdown",
   "metadata": {
    "id": "7CHY1x-3ugzH"
   },
   "source": [
    "저장된 .env 파일을 불러서 환경변수로 설정합니다."
   ]
  },
  {
   "cell_type": "code",
   "execution_count": null,
   "metadata": {
    "colab": {
     "base_uri": "https://localhost:8080/"
    },
    "executionInfo": {
     "elapsed": 27,
     "status": "ok",
     "timestamp": 1760690283970,
     "user": {
      "displayName": "S H",
      "userId": "07486973781233731858"
     },
     "user_tz": -540
    },
    "id": "GC1Hp5KuugzH",
    "outputId": "c260aa2a-7cb6-49b8-a214-af57892e0624"
   },
   "outputs": [
    {
     "name": "stdout",
     "output_type": "stream",
     "text": [
      "Success API Key Setting!\n"
     ]
    }
   ],
   "source": [
    "from dotenv import load_dotenv\n",
    "from os import getenv\n",
    "load_dotenv(\"/content/.env\")\n",
    "\n",
    "UPSTAGE_API_KEY = getenv(\"UPSTAGE_API_KEY\")\n",
    "if UPSTAGE_API_KEY:\n",
    "    print(\"Success API Key Setting!\")"
   ]
  },
  {
   "cell_type": "markdown",
   "metadata": {
    "id": "k9tKBrFwugzI"
   },
   "source": [
    "이렇게 불러오면 .env 파일을 github에 push할 때, gitignore 처리를 해서 API가 유출되지 않도록 할 수 있습니다.\n",
    "\n",
    "또한, .env 파일을 암호화해서 보관할 수도 있습니다."
   ]
  },
  {
   "cell_type": "markdown",
   "metadata": {
    "id": "Ijm8LEULugzK"
   },
   "source": [
    "# 2. real data를 이용한 데이터 증강\n",
    "\n",
    "아무것도 없는 상태에서 합성 데이터를 만드는 것은 굉장히 어렵습니다. 그 이유는 다음과 같습니다.\n",
    "\n",
    "1. 정답이 없는 상황에서 모델을 이용해서 정답을 만들 경우 현실 세상에 없는 데이터가 만들어지면서 오히려 모델의 성능이 떨어질 수 있습니다.\n",
    "2. 입력 데이터가 실제 사람으로부터 나온 데이터가 아니기 때문에 실제 입력과의 차이가 발생하여 서비스 단계에서 문제가 발생합니다.\n",
    "\n",
    "이러한 문제를 어느정도 완화할 수 있는 것이 데이터 증강입니다. 데이터 증강은 real data로부터 조금씩 번형하여 데이터를 만들어내는 것을 의미합니다. 지금부터 데이터를 증강하는 방법을 경험해봅니다."
   ]
  },
  {
   "cell_type": "markdown",
   "metadata": {
    "id": "1bHrKapRugzK"
   },
   "source": [
    "### 2.1. 영어 데이터 번역\n",
    "\n",
    "한국어로 된 데이터셋은 많지 않습니다. 그 이유는 다음과 같습니다.\n",
    "\n",
    "1. 한국어를 사용하는 사람들의 비율이 전세계적으로 적습니다.\n",
    "2. 한국어로 된 데이터셋을 만드는 기업 or 개인의 수가 적습니다.\n",
    "3. 한국어로 된 데이터셋을 만들기 위해서는 많은 노동력과 자본이 필요하지만 다른 국가에 비해 비교적 부족합니다.\n",
    "\n",
    "반대로 영어로된 데이터셋은 많습니다. 영어를 사용하는 인구가 많고, 많은 자본이 동원되어 데이터셋을 만듭니다.\n",
    "\n",
    "이러한 이유로 영어로 된 공개된 데이터셋을 한국어로 번역하여 학습하는 경우가 많습니다.\n",
    "\n",
    "지금부터 영어로된 데이터셋을 한국어로 번역하는 방식으로 한국어 데이터를 만들어보겠습니다."
   ]
  },
  {
   "cell_type": "markdown",
   "metadata": {
    "id": "S4HETKFEugzL"
   },
   "source": [
    "합성 데이터를 만들든 데이터를 증강하든 어떤 데이터셋을 만들든 간에 추가적인 데이터셋을 만들 때에는 다음과 같은 과정으로 진행합니다.\n",
    "\n",
    "1. 일부 데이터셋으로만 합성 데이터를 제작하는 코드를 만들어서 테스트를 진행합니다.\n",
    "2. 해당 합성 데이터 제작 코드로 퀄리티가 좋다면 단계적으로 갯수를 늘려서 데이터 퀄리티를 체크합니다. (ex : 10 -> 100 -> 1000)\n",
    "3. 데이터를 scale-up 해도 퀄리티가 유지가 된다면 전체 데이터셋에 대해서 합성 데이터를 제작합니다.\n",
    "\n",
    "이러한 방식으로 데이터 생성 비용을 최소화하면서 데이터를 제작하는 파이프라인을 제작합니다.\n",
    "\n",
    "영어로 된 Text-to-SQL 데이터셋을 불러옵니다."
   ]
  },
  {
   "cell_type": "code",
   "execution_count": null,
   "metadata": {
    "colab": {
     "base_uri": "https://localhost:8080/",
     "height": 287,
     "referenced_widgets": [
      "6bb4eaa5d03e44fa935f68ca8b40c8e3",
      "004cdd61457c4df1b96e9a39712b75ba",
      "a44969adcea14b4eb01e6ba40fadf063",
      "d34c0f78fcc244dcad776f652719d2e5",
      "f27a276c814b4117b55632d1af00554b",
      "84ce0fa9fcbe45a7a41af32dbdf34ef9",
      "055b26c8a49443ddbf298d4fedbcc481",
      "dcba968dadf54213929b35cfd971a94a",
      "95be86d42c594950b5f6a6283e304813",
      "36d754527c574a2b93fde9905c9c22b5",
      "0fce1c41f283460ab94acda2e6f3ec6d",
      "0c87507c1e36413d8b2c0ed1597b9af0",
      "f378b2768a4d4ce2834eba01580ec400",
      "4a729604880e4028ace3988904928833",
      "81b69984f86249eb9ccbe1da2a7c589d",
      "c7684d85473f4c29bb790f79390675cb",
      "77e1957c39534ee1a70961380d184baa",
      "d8858c675a19414180fccc4520242520",
      "62fd7ade6aea473b9b29fddcbcc16b75",
      "f23fd072612240df88e6cf83e480a89b",
      "d5c1113d75394dc7a47f668811c25c58",
      "b63df51a4ec3464a8b1ff907d3fc7827",
      "92ebd9c92f6b454aa29b04b20c25c15b",
      "f6aa5eaa48ae4e2f9fcedd61ef21fe5d",
      "39137584e0ec4d24acdd4b9caed07376",
      "3831975568af437b810367de4ac61a99",
      "26cd7a3129f34b9b87df75e18e2986e0",
      "977696a6a7704864ab8fcd6fbe33ac49",
      "7715c25e97d14750ab062b2e804a08a3",
      "88dc4f79299043eea8575dd99c5664b1",
      "882e28d1e358460b8fb639c3b2bd0740",
      "e250e50905264f8581e6483e64571663",
      "ec4560633638483397e2bf7e7d323414"
     ]
    },
    "executionInfo": {
     "elapsed": 6811,
     "status": "ok",
     "timestamp": 1760690295190,
     "user": {
      "displayName": "S H",
      "userId": "07486973781233731858"
     },
     "user_tz": -540
    },
    "id": "ub4NyoUhugzL",
    "outputId": "d827d064-8a37-4218-e25e-ed0c8d3f8116"
   },
   "outputs": [
    {
     "name": "stderr",
     "output_type": "stream",
     "text": [
      "/usr/local/lib/python3.12/dist-packages/huggingface_hub/utils/_auth.py:94: UserWarning: \n",
      "The secret `HF_TOKEN` does not exist in your Colab secrets.\n",
      "To authenticate with the Hugging Face Hub, create a token in your settings tab (https://huggingface.co/settings/tokens), set it as secret in your Google Colab and restart your session.\n",
      "You will be able to reuse this secret in all of your notebooks.\n",
      "Please note that authentication is recommended but still optional to access public models or datasets.\n",
      "  warnings.warn(\n"
     ]
    },
    {
     "data": {
      "application/vnd.jupyter.widget-view+json": {
       "model_id": "6bb4eaa5d03e44fa935f68ca8b40c8e3",
       "version_major": 2,
       "version_minor": 0
      },
      "text/plain": [
       "README.md: 0.00B [00:00, ?B/s]"
      ]
     },
     "metadata": {},
     "output_type": "display_data"
    },
    {
     "data": {
      "application/vnd.jupyter.widget-view+json": {
       "model_id": "0c87507c1e36413d8b2c0ed1597b9af0",
       "version_major": 2,
       "version_minor": 0
      },
      "text/plain": [
       "sql_create_context_v4.json:   0%|          | 0.00/21.8M [00:00<?, ?B/s]"
      ]
     },
     "metadata": {},
     "output_type": "display_data"
    },
    {
     "data": {
      "application/vnd.jupyter.widget-view+json": {
       "model_id": "92ebd9c92f6b454aa29b04b20c25c15b",
       "version_major": 2,
       "version_minor": 0
      },
      "text/plain": [
       "Generating train split:   0%|          | 0/78577 [00:00<?, ? examples/s]"
      ]
     },
     "metadata": {},
     "output_type": "display_data"
    },
    {
     "data": {
      "text/plain": [
       "Dataset({\n",
       "    features: ['answer', 'question', 'context'],\n",
       "    num_rows: 78577\n",
       "})"
      ]
     },
     "execution_count": 6,
     "metadata": {},
     "output_type": "execute_result"
    }
   ],
   "source": [
    "from datasets import load_dataset\n",
    "\n",
    "# 데이터셋 이름\n",
    "dataset_name = \"b-mc2/sql-create-context\"\n",
    "\n",
    "# 데이터셋 Load\n",
    "dataset = load_dataset(dataset_name, split=\"train\")\n",
    "dataset"
   ]
  },
  {
   "cell_type": "markdown",
   "metadata": {
    "id": "5u2tkXwBugzM"
   },
   "source": [
    "데이터 생성 파이프라인을 만들기 위해 일부 데이터셋으로만 진행합니다."
   ]
  },
  {
   "cell_type": "code",
   "execution_count": null,
   "metadata": {
    "colab": {
     "base_uri": "https://localhost:8080/"
    },
    "executionInfo": {
     "elapsed": 7,
     "status": "ok",
     "timestamp": 1760690295199,
     "user": {
      "displayName": "S H",
      "userId": "07486973781233731858"
     },
     "user_tz": -540
    },
    "id": "eqsrV7tTugzM",
    "outputId": "924efddb-3ad8-4a63-ed06-0873313904bb"
   },
   "outputs": [
    {
     "data": {
      "text/plain": [
       "Dataset({\n",
       "    features: ['answer', 'question', 'context'],\n",
       "    num_rows: 10\n",
       "})"
      ]
     },
     "execution_count": 7,
     "metadata": {},
     "output_type": "execute_result"
    }
   ],
   "source": [
    "dataset_10 = dataset.select(range(10))\n",
    "dataset_10"
   ]
  },
  {
   "cell_type": "markdown",
   "metadata": {
    "id": "v2x2PsLsugzM"
   },
   "source": [
    "데이터셋을 직접 보고 특징을 파악합니다."
   ]
  },
  {
   "cell_type": "code",
   "execution_count": null,
   "metadata": {
    "colab": {
     "base_uri": "https://localhost:8080/"
    },
    "executionInfo": {
     "elapsed": 6,
     "status": "ok",
     "timestamp": 1760690295206,
     "user": {
      "displayName": "S H",
      "userId": "07486973781233731858"
     },
     "user_tz": -540
    },
    "id": "RMAProqfugzM",
    "outputId": "022953d9-6663-424d-986a-f8abf07d34f2"
   },
   "outputs": [
    {
     "data": {
      "text/plain": [
       "{'answer': 'SELECT COUNT(*) FROM head WHERE age > 56',\n",
       " 'question': 'How many heads of the departments are older than 56 ?',\n",
       " 'context': 'CREATE TABLE head (age INTEGER)'}"
      ]
     },
     "execution_count": 8,
     "metadata": {},
     "output_type": "execute_result"
    }
   ],
   "source": [
    "dataset_10[0]"
   ]
  },
  {
   "cell_type": "markdown",
   "metadata": {
    "id": "0Nj4bYLyugzN"
   },
   "source": [
    "- answer : SQL 문\n",
    "- question : 유저의 입력 프롬프트\n",
    "- context : DB의 table 정보\n",
    "\n",
    "이 중 한국어 유저는 question 단계(유저 입력 프롬프트)에서 한국어를 사용할 것이므로 `question` 컬럼을 한국어로 번역합니다.\n",
    "\n",
    "한국어 번역을 하기 위한 `SYSTEM_PROMPT`를 작성합니다."
   ]
  },
  {
   "cell_type": "code",
   "execution_count": null,
   "metadata": {
    "id": "72YpohFgugzN"
   },
   "outputs": [],
   "source": [
    "# TODO: 다음 영어에서 한국어로 번역하는 지시사항에 관한 시스템 프롬프트를 작성하세요\n",
    "SYSTEM_PROMPT = \"\"\"다음 영어를 한국어로 번역해주세요.\n",
    "\"\"\""
   ]
  },
  {
   "cell_type": "markdown",
   "metadata": {
    "id": "4-LuR7RmugzN"
   },
   "source": [
    "안정적인 결과물을 얻기 위해 `response_format`을 정의합니다."
   ]
  },
  {
   "cell_type": "code",
   "execution_count": null,
   "metadata": {
    "id": "TNo-HkyOugzN"
   },
   "outputs": [],
   "source": [
    "response_format={\n",
    "    \"type\": \"json_schema\",\n",
    "    \"json_schema\": {\n",
    "        \"name\": \"translation\",\n",
    "        \"strict\": True,\n",
    "        \"schema\": {\n",
    "            \"type\": \"object\",\n",
    "            \"properties\": {\n",
    "                \"korean\": {\n",
    "                    \"type\": \"string\",\n",
    "                    \"description\": \"translated sentence\"\n",
    "                }\n",
    "            },\n",
    "            \"required\": [\"korean\"],\n",
    "        }\n",
    "    }\n",
    "}"
   ]
  },
  {
   "cell_type": "markdown",
   "metadata": {
    "id": "wL6HBmGGugzO"
   },
   "source": [
    "하나의 입력을 넣어서 제대로 결과물이 나오는지 확인합니다."
   ]
  },
  {
   "cell_type": "code",
   "execution_count": null,
   "metadata": {
    "colab": {
     "base_uri": "https://localhost:8080/"
    },
    "executionInfo": {
     "elapsed": 3403,
     "status": "ok",
     "timestamp": 1760690298636,
     "user": {
      "displayName": "S H",
      "userId": "07486973781233731858"
     },
     "user_tz": -540
    },
    "id": "fSUqW_KaugzO",
    "outputId": "3f898ecf-f98b-490d-f7f5-6cd1b6b29642"
   },
   "outputs": [
    {
     "name": "stdout",
     "output_type": "stream",
     "text": [
      "<class 'str'>\n",
      "{\n",
      "  \"korean\": \"56세 이상인 부서장은 몇 명인가요?\"\n",
      "}\n",
      "<class 'dict'>\n",
      "{'korean': '56세 이상인 부서장은 몇 명인가요?'}\n"
     ]
    }
   ],
   "source": [
    "from openai import OpenAI\n",
    "import json\n",
    "\n",
    "client = OpenAI(\n",
    "    api_key=UPSTAGE_API_KEY,\n",
    "    base_url=\"https://api.upstage.ai/v1\"\n",
    ")\n",
    "\n",
    "system_message = {\n",
    "    \"role\": \"system\",\n",
    "    \"content\": SYSTEM_PROMPT\n",
    "}\n",
    "\n",
    "for row in dataset_10:\n",
    "    # TODO : USER MESSAGE를 정의하세요.\n",
    "    user_message = {\n",
    "        \"role\": \"user\",\n",
    "        \"content\": row[\"question\"]\n",
    "    }\n",
    "\n",
    "    messages = [\n",
    "        system_message,\n",
    "        user_message\n",
    "    ]\n",
    "\n",
    "    response = client.chat.completions.create(\n",
    "        model=\"solar-pro2\",\n",
    "        messages=messages,\n",
    "        response_format=response_format\n",
    "    )\n",
    "\n",
    "    output = response.choices[0].message.content\n",
    "    print(type(output))\n",
    "    print(output)\n",
    "\n",
    "    json_output = json.loads(output)\n",
    "\n",
    "    print(type(json_output))\n",
    "    print(json_output)\n",
    "    break"
   ]
  },
  {
   "cell_type": "markdown",
   "metadata": {
    "id": "eILM8DLSugzP"
   },
   "source": [
    "# 2.2. 데이터 증강\n",
    "\n",
    "영어 데이터로부터 다양한 스타일의 한국어로 번역하는 과정을 통해 다양한 데이터를 얻을 수 있습니다.\n",
    "\n",
    "실제 모델을 서비스를 한다면 초등학생, 직장인, 주부 등 다양한 유저들이 모델을 사용할 것입니다. 이러한 다양한 상황들을 전부 학습하는 것이 모델의 성능을 높이고 안정적인 서비스를 유지하는데 핵심입니다.\n",
    "\n",
    "다양한 번역 결과물을 얻기 위해서 다양한 페르소나를 정의합니다."
   ]
  },
  {
   "cell_type": "code",
   "execution_count": null,
   "metadata": {
    "colab": {
     "base_uri": "https://localhost:8080/"
    },
    "executionInfo": {
     "elapsed": 4978,
     "status": "ok",
     "timestamp": 1760690303616,
     "user": {
      "displayName": "S H",
      "userId": "07486973781233731858"
     },
     "user_tz": -540
    },
    "id": "xLfMalUJugzP",
    "outputId": "945c1e05-1e69-423e-a200-53caba3f82a9"
   },
   "outputs": [
    {
     "data": {
      "text/plain": [
       "[{'id': 0,\n",
       "  'question_with_persona': [{'persona': 'Friendly Adult – Kind and polite tone, like an older sibling giving advice.',\n",
       "    'question_korean': '부서장님들 중에서 56세 이상이신 분은 몇 분이신가요?'},\n",
       "   {'persona': 'Elementary Student – Simple, cheerful, and naive tone, like a 10-year-old child.',\n",
       "    'question_korean': '부장님들 중 56살보다 많으신 분은 몇 분이신가요?'},\n",
       "   {'persona': 'Formal Business – Polite, professional tone suitable for documents or work emails.',\n",
       "    'question_korean': '56세 이상인 부서장 수는 몇 명입니까?'},\n",
       "   {'persona': 'Casual Friend – Relaxed, informal tone, as if chatting with a close friend.',\n",
       "    'question_korean': '부서장 중에 56살 넘은 사람이 몇 명이나 되지?'},\n",
       "   {'persona': 'Elderly Person – Gentle, old-fashioned, and wise tone, like a kind grandparent.',\n",
       "    'question_korean': '56세보다 연장인 과장님들이 몇 분이나 되시나요?'}]}]"
      ]
     },
     "execution_count": 12,
     "metadata": {},
     "output_type": "execute_result"
    }
   ],
   "source": [
    "# TODO: 다양한 페르소나를 정의하세요\n",
    "personas = [\n",
    "    \"Friendly Adult – Kind and polite tone, like an older sibling giving advice.\",\n",
    "    \"Elementary Student – Simple, cheerful, and naive tone, like a 10-year-old child.\",\n",
    "    \"Formal Business – Polite, professional tone suitable for documents or work emails.\",\n",
    "    \"Casual Friend – Relaxed, informal tone, as if chatting with a close friend.\",\n",
    "    \"Elderly Person – Gentle, old-fashioned, and wise tone, like a kind grandparent.\",\n",
    "]\n",
    "\n",
    "SYSTEM_PROMPT_WITH_PERSONA = \"\"\"\n",
    "You are a translation assistant.\n",
    "Your task is to translate English sentences into Korean.\n",
    "You must keep the meaning accurate, but adapt the tone and style according to the requested persona.\n",
    "\n",
    "{persona}\n",
    "\"\"\"\n",
    "\n",
    "translated_questions_with_persona = []\n",
    "for idx, row in enumerate(dataset_10):\n",
    "    output_row = {\n",
    "        \"id\": idx,\n",
    "        \"question_with_persona\": []\n",
    "    }\n",
    "    for persona in personas:\n",
    "        system_message = {\n",
    "            \"role\": \"system\",\n",
    "            \"content\": SYSTEM_PROMPT_WITH_PERSONA.format(persona=persona)\n",
    "        }\n",
    "        user_message = {\n",
    "            \"role\": \"user\",\n",
    "            \"content\": row[\"question\"]\n",
    "        }\n",
    "\n",
    "        messages = [\n",
    "            system_message,\n",
    "            user_message\n",
    "        ]\n",
    "\n",
    "        response = client.chat.completions.create(\n",
    "            model=\"solar-pro2\",\n",
    "            messages=messages,\n",
    "            response_format=response_format\n",
    "        )\n",
    "\n",
    "        output = response.choices[0].message.content\n",
    "        json_output = json.loads(output)\n",
    "        output_row[\"question_with_persona\"].append({\n",
    "            \"persona\": persona,\n",
    "            \"question_korean\": json_output[\"korean\"]\n",
    "        })\n",
    "\n",
    "    translated_questions_with_persona.append(output_row)\n",
    "    break\n",
    "translated_questions_with_persona"
   ]
  },
  {
   "cell_type": "markdown",
   "metadata": {
    "id": "GVVbuxY4ugzQ"
   },
   "source": [
    "# 3. 증강 데이터 평가\n",
    "\n",
    "합성 데이터 혹은 증강 데이터를 평가할 때에는 정성적인 부분이 많이 들어갑니다. 왜냐하면 정상적인 데이터가 아닐 수 있기 때문에 명확히 평가하기 어려운 부분도 있습니다. 평가가 어려운 이유는 다음과 같습니다.\n",
    "\n",
    "-  모델의 강건함(robustness)를 올리기 위해 일부러 비정상적인 데이터를 넣을 수 있습니다. 이 경우 명확한 평가가 어렵습니다.\n",
    "-  다양한 데이터를 얻기 위해 스타일을 바꾼 것은 명확한 정량적인 평가가 어렵습니다.\n",
    "\n",
    "또한, 모델 학습 데이터를 얻기 위해서 데이터를 증강했다는 의미는 **모델의 성능이 올랐냐**가 가장 중요한 평가 기준이 됩니다. 따라서, task, 모델 등에 따라서 모델의 성능이 각기 달라지기 때문에 명확한 정답이 있는 것은 아닙니다.\n",
    "\n",
    "잘 만들었다는 증강 데이터는 모델의 학습과 연관이 되어 있기 때문에 모델 학습 결과를 보면서 ML 엔지니어의 감과 노하우가 들어가는 영역입니다.\n",
    "\n",
    "즉, 해당 task의 평가 데이터 혹은 실제 서비스상에서 나타나는 데이터들을 보고 그것과 유사한 증강 데이터를 만드는 등 좀더 실무적인 영역이 많이 들어가기 때문에 평가하기가 더더욱 어렵습니다.\n",
    "\n",
    "우선 간단하게 해볼 수 있는 평가는 LLM as a Judge를 이용하여 GPT를 통해 한번 필터링을 하는 것입니다. 그 이후에는 모델 영역으로도 평가하기 어려운 부분은 직접 ML 엔지니어가 판단할 수 있어야 합니다.\n"
   ]
  },
  {
   "cell_type": "markdown",
   "metadata": {
    "id": "iORc6MEJugzQ"
   },
   "source": [
    "그러면 LLM as a Judge를 이용하여 이전에 생성한 합성 데이터 결과물을 평가해보겠습니다."
   ]
  },
  {
   "cell_type": "code",
   "execution_count": null,
   "metadata": {
    "colab": {
     "base_uri": "https://localhost:8080/"
    },
    "executionInfo": {
     "elapsed": 8599,
     "status": "ok",
     "timestamp": 1760690312288,
     "user": {
      "displayName": "S H",
      "userId": "07486973781233731858"
     },
     "user_tz": -540
    },
    "id": "i4rzlUmTugzQ",
    "outputId": "258edb1a-f315-43dc-defb-6508dc5521d5"
   },
   "outputs": [
    {
     "data": {
      "text/plain": [
       "[{'id': 0,\n",
       "  'question_with_persona': [{'persona': 'Friendly Adult – Kind and polite tone, like an older sibling giving advice.',\n",
       "    'question_korean': '부서장님들 중에서 56세 이상이신 분은 몇 분이신가요?',\n",
       "    'score': 10,\n",
       "    'reason': \"The Korean translation accurately preserves the original meaning, asking how many department heads are older than 56. The only change is the tone/persona, which is more polite and formal (using '님들이신' and '분이신가요?') but does not alter any factual content or intent.\"},\n",
       "   {'persona': 'Elementary Student – Simple, cheerful, and naive tone, like a 10-year-old child.',\n",
       "    'question_korean': '부장님들 중 56살보다 많으신 분은 몇 분이신가요?',\n",
       "    'score': 9,\n",
       "    'reason': \"The Korean translation accurately preserves the original meaning by asking about the number of department heads older than 56. The only minor difference is the tone - '부장님들 중...몇 분이신가요?' uses a slightly more polite/formal style compared to the neutral English version, but no factual content has been altered or distorted. The score is 9 instead of 10 because 'heads of the departments' was translated as '부장님들' which could refer to department managers rather than heads in some organizational contexts, though the meaning remains very close.\"},\n",
       "   {'persona': 'Formal Business – Polite, professional tone suitable for documents or work emails.',\n",
       "    'question_korean': '56세 이상인 부서장 수는 몇 명입니까?',\n",
       "    'score': 10,\n",
       "    'reason': 'The Korean translation accurately preserves the original English meaning. Both sentences ask for the number of department heads older than 56 years. The translation simply changes the word order and phrasing style while maintaining all factual content. No information is added, removed, or distorted in the translation process.'},\n",
       "   {'persona': 'Casual Friend – Relaxed, informal tone, as if chatting with a close friend.',\n",
       "    'question_korean': '부서장 중에 56살 넘은 사람이 몇 명이나 되지?',\n",
       "    'score': 9,\n",
       "    'reason': \"The Korean translation accurately conveys the original English meaning, asking about the number of department heads older than 56. The tone is slightly more colloquial (using '넘은' instead of '이상인' and the sentence ending '되지?'), but no key information is added, removed, or distorted. The score is 9 instead of 10 because 'heads of the departments' is translated as '부서장' (singular) rather than the more precise plural form '부서장들' - though contextually the meaning remains clear.\"},\n",
       "   {'persona': 'Elderly Person – Gentle, old-fashioned, and wise tone, like a kind grandparent.',\n",
       "    'question_korean': '56세보다 연장인 과장님들이 몇 분이나 되시나요?',\n",
       "    'score': 8,\n",
       "    'reason': \"The Korean translation accurately conveys the original meaning about counting department heads older than 56. However, 'heads of the departments' is translated as '과장님들' (managers/supervisors), which might refer to a slightly lower rank than 'head of department' in some contexts. The polite form '되시나요' adds formality but doesn't alter factual content. Key data (56세, 연장인) and question intent are preserved.\"}]},\n",
       " {'id': 0,\n",
       "  'question_with_persona': [{'persona': 'Friendly Adult – Kind and polite tone, like an older sibling giving advice.',\n",
       "    'question_korean': '부서장님들 중에서 56세 이상이신 분은 몇 분이신가요?',\n",
       "    'score': 10,\n",
       "    'reason': \"The Korean translation accurately preserves the original meaning, asking how many department heads are older than 56. The only change is the tone/persona, which is more polite and formal (using '님들이신' and '분이신가요?') but does not alter any factual content or intent.\"},\n",
       "   {'persona': 'Elementary Student – Simple, cheerful, and naive tone, like a 10-year-old child.',\n",
       "    'question_korean': '부장님들 중 56살보다 많으신 분은 몇 분이신가요?',\n",
       "    'score': 9,\n",
       "    'reason': \"The Korean translation accurately preserves the original meaning by asking about the number of department heads older than 56. The only minor difference is the tone - '부장님들 중...몇 분이신가요?' uses a slightly more polite/formal style compared to the neutral English version, but no factual content has been altered or distorted. The score is 9 instead of 10 because 'heads of the departments' was translated as '부장님들' which could refer to department managers rather than heads in some organizational contexts, though the meaning remains very close.\"},\n",
       "   {'persona': 'Formal Business – Polite, professional tone suitable for documents or work emails.',\n",
       "    'question_korean': '56세 이상인 부서장 수는 몇 명입니까?',\n",
       "    'score': 10,\n",
       "    'reason': 'The Korean translation accurately preserves the original English meaning. Both sentences ask for the number of department heads older than 56 years. The translation simply changes the word order and phrasing style while maintaining all factual content. No information is added, removed, or distorted in the translation process.'},\n",
       "   {'persona': 'Casual Friend – Relaxed, informal tone, as if chatting with a close friend.',\n",
       "    'question_korean': '부서장 중에 56살 넘은 사람이 몇 명이나 되지?',\n",
       "    'score': 9,\n",
       "    'reason': \"The Korean translation accurately conveys the original English meaning, asking about the number of department heads older than 56. The tone is slightly more colloquial (using '넘은' instead of '이상인' and the sentence ending '되지?'), but no key information is added, removed, or distorted. The score is 9 instead of 10 because 'heads of the departments' is translated as '부서장' (singular) rather than the more precise plural form '부서장들' - though contextually the meaning remains clear.\"},\n",
       "   {'persona': 'Elderly Person – Gentle, old-fashioned, and wise tone, like a kind grandparent.',\n",
       "    'question_korean': '56세보다 연장인 과장님들이 몇 분이나 되시나요?',\n",
       "    'score': 8,\n",
       "    'reason': \"The Korean translation accurately conveys the original meaning about counting department heads older than 56. However, 'heads of the departments' is translated as '과장님들' (managers/supervisors), which might refer to a slightly lower rank than 'head of department' in some contexts. The polite form '되시나요' adds formality but doesn't alter factual content. Key data (56세, 연장인) and question intent are preserved.\"}]},\n",
       " {'id': 0,\n",
       "  'question_with_persona': [{'persona': 'Friendly Adult – Kind and polite tone, like an older sibling giving advice.',\n",
       "    'question_korean': '부서장님들 중에서 56세 이상이신 분은 몇 분이신가요?',\n",
       "    'score': 10,\n",
       "    'reason': \"The Korean translation accurately preserves the original meaning, asking how many department heads are older than 56. The only change is the tone/persona, which is more polite and formal (using '님들이신' and '분이신가요?') but does not alter any factual content or intent.\"},\n",
       "   {'persona': 'Elementary Student – Simple, cheerful, and naive tone, like a 10-year-old child.',\n",
       "    'question_korean': '부장님들 중 56살보다 많으신 분은 몇 분이신가요?',\n",
       "    'score': 9,\n",
       "    'reason': \"The Korean translation accurately preserves the original meaning by asking about the number of department heads older than 56. The only minor difference is the tone - '부장님들 중...몇 분이신가요?' uses a slightly more polite/formal style compared to the neutral English version, but no factual content has been altered or distorted. The score is 9 instead of 10 because 'heads of the departments' was translated as '부장님들' which could refer to department managers rather than heads in some organizational contexts, though the meaning remains very close.\"},\n",
       "   {'persona': 'Formal Business – Polite, professional tone suitable for documents or work emails.',\n",
       "    'question_korean': '56세 이상인 부서장 수는 몇 명입니까?',\n",
       "    'score': 10,\n",
       "    'reason': 'The Korean translation accurately preserves the original English meaning. Both sentences ask for the number of department heads older than 56 years. The translation simply changes the word order and phrasing style while maintaining all factual content. No information is added, removed, or distorted in the translation process.'},\n",
       "   {'persona': 'Casual Friend – Relaxed, informal tone, as if chatting with a close friend.',\n",
       "    'question_korean': '부서장 중에 56살 넘은 사람이 몇 명이나 되지?',\n",
       "    'score': 9,\n",
       "    'reason': \"The Korean translation accurately conveys the original English meaning, asking about the number of department heads older than 56. The tone is slightly more colloquial (using '넘은' instead of '이상인' and the sentence ending '되지?'), but no key information is added, removed, or distorted. The score is 9 instead of 10 because 'heads of the departments' is translated as '부서장' (singular) rather than the more precise plural form '부서장들' - though contextually the meaning remains clear.\"},\n",
       "   {'persona': 'Elderly Person – Gentle, old-fashioned, and wise tone, like a kind grandparent.',\n",
       "    'question_korean': '56세보다 연장인 과장님들이 몇 분이나 되시나요?',\n",
       "    'score': 8,\n",
       "    'reason': \"The Korean translation accurately conveys the original meaning about counting department heads older than 56. However, 'heads of the departments' is translated as '과장님들' (managers/supervisors), which might refer to a slightly lower rank than 'head of department' in some contexts. The polite form '되시나요' adds formality but doesn't alter factual content. Key data (56세, 연장인) and question intent are preserved.\"}]},\n",
       " {'id': 0,\n",
       "  'question_with_persona': [{'persona': 'Friendly Adult – Kind and polite tone, like an older sibling giving advice.',\n",
       "    'question_korean': '부서장님들 중에서 56세 이상이신 분은 몇 분이신가요?',\n",
       "    'score': 10,\n",
       "    'reason': \"The Korean translation accurately preserves the original meaning, asking how many department heads are older than 56. The only change is the tone/persona, which is more polite and formal (using '님들이신' and '분이신가요?') but does not alter any factual content or intent.\"},\n",
       "   {'persona': 'Elementary Student – Simple, cheerful, and naive tone, like a 10-year-old child.',\n",
       "    'question_korean': '부장님들 중 56살보다 많으신 분은 몇 분이신가요?',\n",
       "    'score': 9,\n",
       "    'reason': \"The Korean translation accurately preserves the original meaning by asking about the number of department heads older than 56. The only minor difference is the tone - '부장님들 중...몇 분이신가요?' uses a slightly more polite/formal style compared to the neutral English version, but no factual content has been altered or distorted. The score is 9 instead of 10 because 'heads of the departments' was translated as '부장님들' which could refer to department managers rather than heads in some organizational contexts, though the meaning remains very close.\"},\n",
       "   {'persona': 'Formal Business – Polite, professional tone suitable for documents or work emails.',\n",
       "    'question_korean': '56세 이상인 부서장 수는 몇 명입니까?',\n",
       "    'score': 10,\n",
       "    'reason': 'The Korean translation accurately preserves the original English meaning. Both sentences ask for the number of department heads older than 56 years. The translation simply changes the word order and phrasing style while maintaining all factual content. No information is added, removed, or distorted in the translation process.'},\n",
       "   {'persona': 'Casual Friend – Relaxed, informal tone, as if chatting with a close friend.',\n",
       "    'question_korean': '부서장 중에 56살 넘은 사람이 몇 명이나 되지?',\n",
       "    'score': 9,\n",
       "    'reason': \"The Korean translation accurately conveys the original English meaning, asking about the number of department heads older than 56. The tone is slightly more colloquial (using '넘은' instead of '이상인' and the sentence ending '되지?'), but no key information is added, removed, or distorted. The score is 9 instead of 10 because 'heads of the departments' is translated as '부서장' (singular) rather than the more precise plural form '부서장들' - though contextually the meaning remains clear.\"},\n",
       "   {'persona': 'Elderly Person – Gentle, old-fashioned, and wise tone, like a kind grandparent.',\n",
       "    'question_korean': '56세보다 연장인 과장님들이 몇 분이나 되시나요?',\n",
       "    'score': 8,\n",
       "    'reason': \"The Korean translation accurately conveys the original meaning about counting department heads older than 56. However, 'heads of the departments' is translated as '과장님들' (managers/supervisors), which might refer to a slightly lower rank than 'head of department' in some contexts. The polite form '되시나요' adds formality but doesn't alter factual content. Key data (56세, 연장인) and question intent are preserved.\"}]},\n",
       " {'id': 0,\n",
       "  'question_with_persona': [{'persona': 'Friendly Adult – Kind and polite tone, like an older sibling giving advice.',\n",
       "    'question_korean': '부서장님들 중에서 56세 이상이신 분은 몇 분이신가요?',\n",
       "    'score': 10,\n",
       "    'reason': \"The Korean translation accurately preserves the original meaning, asking how many department heads are older than 56. The only change is the tone/persona, which is more polite and formal (using '님들이신' and '분이신가요?') but does not alter any factual content or intent.\"},\n",
       "   {'persona': 'Elementary Student – Simple, cheerful, and naive tone, like a 10-year-old child.',\n",
       "    'question_korean': '부장님들 중 56살보다 많으신 분은 몇 분이신가요?',\n",
       "    'score': 9,\n",
       "    'reason': \"The Korean translation accurately preserves the original meaning by asking about the number of department heads older than 56. The only minor difference is the tone - '부장님들 중...몇 분이신가요?' uses a slightly more polite/formal style compared to the neutral English version, but no factual content has been altered or distorted. The score is 9 instead of 10 because 'heads of the departments' was translated as '부장님들' which could refer to department managers rather than heads in some organizational contexts, though the meaning remains very close.\"},\n",
       "   {'persona': 'Formal Business – Polite, professional tone suitable for documents or work emails.',\n",
       "    'question_korean': '56세 이상인 부서장 수는 몇 명입니까?',\n",
       "    'score': 10,\n",
       "    'reason': 'The Korean translation accurately preserves the original English meaning. Both sentences ask for the number of department heads older than 56 years. The translation simply changes the word order and phrasing style while maintaining all factual content. No information is added, removed, or distorted in the translation process.'},\n",
       "   {'persona': 'Casual Friend – Relaxed, informal tone, as if chatting with a close friend.',\n",
       "    'question_korean': '부서장 중에 56살 넘은 사람이 몇 명이나 되지?',\n",
       "    'score': 9,\n",
       "    'reason': \"The Korean translation accurately conveys the original English meaning, asking about the number of department heads older than 56. The tone is slightly more colloquial (using '넘은' instead of '이상인' and the sentence ending '되지?'), but no key information is added, removed, or distorted. The score is 9 instead of 10 because 'heads of the departments' is translated as '부서장' (singular) rather than the more precise plural form '부서장들' - though contextually the meaning remains clear.\"},\n",
       "   {'persona': 'Elderly Person – Gentle, old-fashioned, and wise tone, like a kind grandparent.',\n",
       "    'question_korean': '56세보다 연장인 과장님들이 몇 분이나 되시나요?',\n",
       "    'score': 8,\n",
       "    'reason': \"The Korean translation accurately conveys the original meaning about counting department heads older than 56. However, 'heads of the departments' is translated as '과장님들' (managers/supervisors), which might refer to a slightly lower rank than 'head of department' in some contexts. The polite form '되시나요' adds formality but doesn't alter factual content. Key data (56세, 연장인) and question intent are preserved.\"}]}]"
      ]
     },
     "execution_count": 13,
     "metadata": {},
     "output_type": "execute_result"
    }
   ],
   "source": [
    "# TODO: 원본 영어 텍스트의 의미를 훼손하지 않으면서 다양한 한국어 데이터를 얻었는지 판단하기 위한 SYSTEM PROMPT를 작성합니다.\n",
    "JUDGE_SYSTEM_PROMPT=\"\"\"You are an evaluation assistant.\n",
    "Your task is to judge whether a Korean translation preserves the original English meaning, while only changing the tone/persona (e.g., friendly, childish, formal, humorous).\n",
    "\n",
    "Evaluation Criteria:\n",
    "1. Meaning Preservation\n",
    "    - Does the Korean text accurately convey the original English meaning?\n",
    "    - No key information should be added, removed, or distorted.\n",
    "    - score is a integer in 0 - 10.\n",
    "\n",
    "Instructions:\n",
    "    - Always compare the English source with the Korean translation.\n",
    "    - Do NOT allow stylistic creativity to change the factual content.\n",
    "    - If the meaning is preserved and only the tone changes, give a high score.\n",
    "\"\"\"\n",
    "\n",
    "USER_PROMPT = \"\"\"- original sentence : {english}\n",
    "- translated sentence : {korean}\n",
    "\"\"\"\n",
    "\n",
    "# TODO: system prompt에서 output으로 설정할 response_format을 정의하세요. \"score\"와 \"reason\"이 키값으로 들어가야 합니다.\n",
    "evaluate_response_format={\n",
    "    \"type\": \"json_schema\",\n",
    "    \"json_schema\": {\n",
    "        \"name\": \"translation\",\n",
    "        \"strict\": True,\n",
    "        \"schema\": {\n",
    "            \"type\": \"object\",\n",
    "            \"properties\": {\n",
    "                \"score\": {\n",
    "                    \"type\": \"number\",\n",
    "                    \"description\": \"evaluate score\"\n",
    "                },\n",
    "                \"reason\": {\n",
    "                    \"type\": \"string\",\n",
    "                    \"description\": \"the reason about evaluate score\"\n",
    "                }\n",
    "            },\n",
    "            \"required\": [\"korean\"],\n",
    "        }\n",
    "    }\n",
    "}\n",
    "\n",
    "system_message = {\n",
    "    \"role\": \"system\",\n",
    "    \"content\": JUDGE_SYSTEM_PROMPT\n",
    "}\n",
    "\n",
    "\n",
    "evaluated_questions_with_persona = []\n",
    "for row, translated_question_with_persona in zip(dataset_10, translated_questions_with_persona):\n",
    "\n",
    "    for idx, question_with_persona in enumerate(translated_question_with_persona[\"question_with_persona\"]):\n",
    "        user_message = {\n",
    "            \"role\": \"user\",\n",
    "            \"content\": USER_PROMPT.format(\n",
    "                english=row[\"question\"],\n",
    "                korean=question_with_persona[\"question_korean\"]\n",
    "            )\n",
    "        }\n",
    "\n",
    "        messages = [\n",
    "            system_message,\n",
    "            user_message\n",
    "        ]\n",
    "\n",
    "        response = client.chat.completions.create(\n",
    "            model=\"solar-pro2\",\n",
    "            messages=messages,\n",
    "            response_format=evaluate_response_format\n",
    "        )\n",
    "\n",
    "        output = response.choices[0].message.content\n",
    "        json_output = json.loads(output)\n",
    "        evaluated_question_with_persona = translated_question_with_persona.copy()\n",
    "        evaluated_question_with_persona[\"question_with_persona\"][idx][\"score\"] = json_output[\"score\"]\n",
    "        evaluated_question_with_persona[\"question_with_persona\"][idx][\"reason\"] = json_output[\"reason\"]\n",
    "        evaluated_questions_with_persona.append(evaluated_question_with_persona)\n",
    "    break\n",
    "evaluated_questions_with_persona"
   ]
  },
  {
   "cell_type": "markdown",
   "metadata": {
    "id": "pFZywliKugzS"
   },
   "source": [
    "평가한 데이터 중에서 몇점 이상의 데이터만 남기고 나머지는 필터링할지 정합니다."
   ]
  },
  {
   "cell_type": "code",
   "execution_count": null,
   "metadata": {
    "colab": {
     "base_uri": "https://localhost:8080/"
    },
    "executionInfo": {
     "elapsed": 52,
     "status": "ok",
     "timestamp": 1760690312342,
     "user": {
      "displayName": "S H",
      "userId": "07486973781233731858"
     },
     "user_tz": -540
    },
    "id": "rgQt-YGQugzT",
    "outputId": "135025d5-7a34-46d1-ccb3-3d373898b91b"
   },
   "outputs": [
    {
     "data": {
      "text/plain": [
       "[{'question': '부서장님들 중에서 56세 이상이신 분은 몇 분이신가요?',\n",
       "  'context': 'CREATE TABLE head (age INTEGER)',\n",
       "  'answer': 'SELECT COUNT(*) FROM head WHERE age > 56'},\n",
       " {'question': '부장님들 중 56살보다 많으신 분은 몇 분이신가요?',\n",
       "  'context': 'CREATE TABLE head (age INTEGER)',\n",
       "  'answer': 'SELECT COUNT(*) FROM head WHERE age > 56'},\n",
       " {'question': '56세 이상인 부서장 수는 몇 명입니까?',\n",
       "  'context': 'CREATE TABLE head (age INTEGER)',\n",
       "  'answer': 'SELECT COUNT(*) FROM head WHERE age > 56'},\n",
       " {'question': '부서장 중에 56살 넘은 사람이 몇 명이나 되지?',\n",
       "  'context': 'CREATE TABLE head (age INTEGER)',\n",
       "  'answer': 'SELECT COUNT(*) FROM head WHERE age > 56'}]"
      ]
     },
     "execution_count": 14,
     "metadata": {},
     "output_type": "execute_result"
    }
   ],
   "source": [
    "# TODO: 필터링할 스코어를 설정해주세요\n",
    "filtering_score = 9\n",
    "\n",
    "synthetic_datasets = []\n",
    "for row, evaluated_question_with_persona in zip(dataset_10, evaluated_questions_with_persona):\n",
    "    for question_with_persona in evaluated_question_with_persona[\"question_with_persona\"]:\n",
    "        if question_with_persona[\"score\"] < filtering_score:\n",
    "            continue\n",
    "\n",
    "        synthetic_row = {\n",
    "            \"question\": question_with_persona[\"question_korean\"],\n",
    "            \"context\": row[\"context\"],\n",
    "            \"answer\": row[\"answer\"]\n",
    "        }\n",
    "        synthetic_datasets.append(synthetic_row)\n",
    "\n",
    "    break\n",
    "\n",
    "synthetic_datasets"
   ]
  },
  {
   "cell_type": "markdown",
   "metadata": {
    "id": "P-BG3-JAugzU"
   },
   "source": [
    "지금까지 데이터를 증강하기 위한 기본 환경 설정과 프롬프트 엔지니어링, LLM as a Judge 방식을 배워보았습니다.\n",
    "\n",
    "데이터를 증강하는 방식에 정답은 없습니다. 하지만, 가장 중요한 것은 real data와 가장 비슷하게 만들어내는 것입니다.\n",
    "\n",
    "real data와 비슷하게 만든다는 것은 근본적으로 내가 만들고자 하는 서비스(만들고자 하는 모델)이 무엇이냐에 따라서 달라집니다.\n",
    "\n",
    "따라서, 문제 정의(데이터의 목적)에 따라 다양하게 데이터를 증강하는 것을 시도해보시길 바랍니다."
   ]
  }
 ],
 "metadata": {
  "colab": {
   "provenance": []
  },
  "kernelspec": {
   "display_name": "c10",
   "language": "python",
   "name": "python3"
  },
  "language_info": {
   "codemirror_mode": {
    "name": "ipython",
    "version": 3
   },
   "file_extension": ".py",
   "mimetype": "text/x-python",
   "name": "python",
   "nbconvert_exporter": "python",
   "pygments_lexer": "ipython3",
   "version": "3.11.13"
  },
  "widgets": {
   "application/vnd.jupyter.widget-state+json": {
    "004cdd61457c4df1b96e9a39712b75ba": {
     "model_module": "@jupyter-widgets/controls",
     "model_module_version": "1.5.0",
     "model_name": "HTMLModel",
     "state": {
      "_dom_classes": [],
      "_model_module": "@jupyter-widgets/controls",
      "_model_module_version": "1.5.0",
      "_model_name": "HTMLModel",
      "_view_count": null,
      "_view_module": "@jupyter-widgets/controls",
      "_view_module_version": "1.5.0",
      "_view_name": "HTMLView",
      "description": "",
      "description_tooltip": null,
      "layout": "IPY_MODEL_84ce0fa9fcbe45a7a41af32dbdf34ef9",
      "placeholder": "​",
      "style": "IPY_MODEL_055b26c8a49443ddbf298d4fedbcc481",
      "value": "README.md: "
     }
    },
    "055b26c8a49443ddbf298d4fedbcc481": {
     "model_module": "@jupyter-widgets/controls",
     "model_module_version": "1.5.0",
     "model_name": "DescriptionStyleModel",
     "state": {
      "_model_module": "@jupyter-widgets/controls",
      "_model_module_version": "1.5.0",
      "_model_name": "DescriptionStyleModel",
      "_view_count": null,
      "_view_module": "@jupyter-widgets/base",
      "_view_module_version": "1.2.0",
      "_view_name": "StyleView",
      "description_width": ""
     }
    },
    "0c87507c1e36413d8b2c0ed1597b9af0": {
     "model_module": "@jupyter-widgets/controls",
     "model_module_version": "1.5.0",
     "model_name": "HBoxModel",
     "state": {
      "_dom_classes": [],
      "_model_module": "@jupyter-widgets/controls",
      "_model_module_version": "1.5.0",
      "_model_name": "HBoxModel",
      "_view_count": null,
      "_view_module": "@jupyter-widgets/controls",
      "_view_module_version": "1.5.0",
      "_view_name": "HBoxView",
      "box_style": "",
      "children": [
       "IPY_MODEL_f378b2768a4d4ce2834eba01580ec400",
       "IPY_MODEL_4a729604880e4028ace3988904928833",
       "IPY_MODEL_81b69984f86249eb9ccbe1da2a7c589d"
      ],
      "layout": "IPY_MODEL_c7684d85473f4c29bb790f79390675cb"
     }
    },
    "0fce1c41f283460ab94acda2e6f3ec6d": {
     "model_module": "@jupyter-widgets/controls",
     "model_module_version": "1.5.0",
     "model_name": "DescriptionStyleModel",
     "state": {
      "_model_module": "@jupyter-widgets/controls",
      "_model_module_version": "1.5.0",
      "_model_name": "DescriptionStyleModel",
      "_view_count": null,
      "_view_module": "@jupyter-widgets/base",
      "_view_module_version": "1.2.0",
      "_view_name": "StyleView",
      "description_width": ""
     }
    },
    "26cd7a3129f34b9b87df75e18e2986e0": {
     "model_module": "@jupyter-widgets/base",
     "model_module_version": "1.2.0",
     "model_name": "LayoutModel",
     "state": {
      "_model_module": "@jupyter-widgets/base",
      "_model_module_version": "1.2.0",
      "_model_name": "LayoutModel",
      "_view_count": null,
      "_view_module": "@jupyter-widgets/base",
      "_view_module_version": "1.2.0",
      "_view_name": "LayoutView",
      "align_content": null,
      "align_items": null,
      "align_self": null,
      "border": null,
      "bottom": null,
      "display": null,
      "flex": null,
      "flex_flow": null,
      "grid_area": null,
      "grid_auto_columns": null,
      "grid_auto_flow": null,
      "grid_auto_rows": null,
      "grid_column": null,
      "grid_gap": null,
      "grid_row": null,
      "grid_template_areas": null,
      "grid_template_columns": null,
      "grid_template_rows": null,
      "height": null,
      "justify_content": null,
      "justify_items": null,
      "left": null,
      "margin": null,
      "max_height": null,
      "max_width": null,
      "min_height": null,
      "min_width": null,
      "object_fit": null,
      "object_position": null,
      "order": null,
      "overflow": null,
      "overflow_x": null,
      "overflow_y": null,
      "padding": null,
      "right": null,
      "top": null,
      "visibility": null,
      "width": null
     }
    },
    "36d754527c574a2b93fde9905c9c22b5": {
     "model_module": "@jupyter-widgets/base",
     "model_module_version": "1.2.0",
     "model_name": "LayoutModel",
     "state": {
      "_model_module": "@jupyter-widgets/base",
      "_model_module_version": "1.2.0",
      "_model_name": "LayoutModel",
      "_view_count": null,
      "_view_module": "@jupyter-widgets/base",
      "_view_module_version": "1.2.0",
      "_view_name": "LayoutView",
      "align_content": null,
      "align_items": null,
      "align_self": null,
      "border": null,
      "bottom": null,
      "display": null,
      "flex": null,
      "flex_flow": null,
      "grid_area": null,
      "grid_auto_columns": null,
      "grid_auto_flow": null,
      "grid_auto_rows": null,
      "grid_column": null,
      "grid_gap": null,
      "grid_row": null,
      "grid_template_areas": null,
      "grid_template_columns": null,
      "grid_template_rows": null,
      "height": null,
      "justify_content": null,
      "justify_items": null,
      "left": null,
      "margin": null,
      "max_height": null,
      "max_width": null,
      "min_height": null,
      "min_width": null,
      "object_fit": null,
      "object_position": null,
      "order": null,
      "overflow": null,
      "overflow_x": null,
      "overflow_y": null,
      "padding": null,
      "right": null,
      "top": null,
      "visibility": null,
      "width": null
     }
    },
    "3831975568af437b810367de4ac61a99": {
     "model_module": "@jupyter-widgets/controls",
     "model_module_version": "1.5.0",
     "model_name": "HTMLModel",
     "state": {
      "_dom_classes": [],
      "_model_module": "@jupyter-widgets/controls",
      "_model_module_version": "1.5.0",
      "_model_name": "HTMLModel",
      "_view_count": null,
      "_view_module": "@jupyter-widgets/controls",
      "_view_module_version": "1.5.0",
      "_view_name": "HTMLView",
      "description": "",
      "description_tooltip": null,
      "layout": "IPY_MODEL_e250e50905264f8581e6483e64571663",
      "placeholder": "​",
      "style": "IPY_MODEL_ec4560633638483397e2bf7e7d323414",
      "value": " 78577/78577 [00:00&lt;00:00, 154096.04 examples/s]"
     }
    },
    "39137584e0ec4d24acdd4b9caed07376": {
     "model_module": "@jupyter-widgets/controls",
     "model_module_version": "1.5.0",
     "model_name": "FloatProgressModel",
     "state": {
      "_dom_classes": [],
      "_model_module": "@jupyter-widgets/controls",
      "_model_module_version": "1.5.0",
      "_model_name": "FloatProgressModel",
      "_view_count": null,
      "_view_module": "@jupyter-widgets/controls",
      "_view_module_version": "1.5.0",
      "_view_name": "ProgressView",
      "bar_style": "success",
      "description": "",
      "description_tooltip": null,
      "layout": "IPY_MODEL_88dc4f79299043eea8575dd99c5664b1",
      "max": 78577,
      "min": 0,
      "orientation": "horizontal",
      "style": "IPY_MODEL_882e28d1e358460b8fb639c3b2bd0740",
      "value": 78577
     }
    },
    "4a729604880e4028ace3988904928833": {
     "model_module": "@jupyter-widgets/controls",
     "model_module_version": "1.5.0",
     "model_name": "FloatProgressModel",
     "state": {
      "_dom_classes": [],
      "_model_module": "@jupyter-widgets/controls",
      "_model_module_version": "1.5.0",
      "_model_name": "FloatProgressModel",
      "_view_count": null,
      "_view_module": "@jupyter-widgets/controls",
      "_view_module_version": "1.5.0",
      "_view_name": "ProgressView",
      "bar_style": "success",
      "description": "",
      "description_tooltip": null,
      "layout": "IPY_MODEL_62fd7ade6aea473b9b29fddcbcc16b75",
      "max": 21752418,
      "min": 0,
      "orientation": "horizontal",
      "style": "IPY_MODEL_f23fd072612240df88e6cf83e480a89b",
      "value": 21752418
     }
    },
    "62fd7ade6aea473b9b29fddcbcc16b75": {
     "model_module": "@jupyter-widgets/base",
     "model_module_version": "1.2.0",
     "model_name": "LayoutModel",
     "state": {
      "_model_module": "@jupyter-widgets/base",
      "_model_module_version": "1.2.0",
      "_model_name": "LayoutModel",
      "_view_count": null,
      "_view_module": "@jupyter-widgets/base",
      "_view_module_version": "1.2.0",
      "_view_name": "LayoutView",
      "align_content": null,
      "align_items": null,
      "align_self": null,
      "border": null,
      "bottom": null,
      "display": null,
      "flex": null,
      "flex_flow": null,
      "grid_area": null,
      "grid_auto_columns": null,
      "grid_auto_flow": null,
      "grid_auto_rows": null,
      "grid_column": null,
      "grid_gap": null,
      "grid_row": null,
      "grid_template_areas": null,
      "grid_template_columns": null,
      "grid_template_rows": null,
      "height": null,
      "justify_content": null,
      "justify_items": null,
      "left": null,
      "margin": null,
      "max_height": null,
      "max_width": null,
      "min_height": null,
      "min_width": null,
      "object_fit": null,
      "object_position": null,
      "order": null,
      "overflow": null,
      "overflow_x": null,
      "overflow_y": null,
      "padding": null,
      "right": null,
      "top": null,
      "visibility": null,
      "width": null
     }
    },
    "6bb4eaa5d03e44fa935f68ca8b40c8e3": {
     "model_module": "@jupyter-widgets/controls",
     "model_module_version": "1.5.0",
     "model_name": "HBoxModel",
     "state": {
      "_dom_classes": [],
      "_model_module": "@jupyter-widgets/controls",
      "_model_module_version": "1.5.0",
      "_model_name": "HBoxModel",
      "_view_count": null,
      "_view_module": "@jupyter-widgets/controls",
      "_view_module_version": "1.5.0",
      "_view_name": "HBoxView",
      "box_style": "",
      "children": [
       "IPY_MODEL_004cdd61457c4df1b96e9a39712b75ba",
       "IPY_MODEL_a44969adcea14b4eb01e6ba40fadf063",
       "IPY_MODEL_d34c0f78fcc244dcad776f652719d2e5"
      ],
      "layout": "IPY_MODEL_f27a276c814b4117b55632d1af00554b"
     }
    },
    "7715c25e97d14750ab062b2e804a08a3": {
     "model_module": "@jupyter-widgets/controls",
     "model_module_version": "1.5.0",
     "model_name": "DescriptionStyleModel",
     "state": {
      "_model_module": "@jupyter-widgets/controls",
      "_model_module_version": "1.5.0",
      "_model_name": "DescriptionStyleModel",
      "_view_count": null,
      "_view_module": "@jupyter-widgets/base",
      "_view_module_version": "1.2.0",
      "_view_name": "StyleView",
      "description_width": ""
     }
    },
    "77e1957c39534ee1a70961380d184baa": {
     "model_module": "@jupyter-widgets/base",
     "model_module_version": "1.2.0",
     "model_name": "LayoutModel",
     "state": {
      "_model_module": "@jupyter-widgets/base",
      "_model_module_version": "1.2.0",
      "_model_name": "LayoutModel",
      "_view_count": null,
      "_view_module": "@jupyter-widgets/base",
      "_view_module_version": "1.2.0",
      "_view_name": "LayoutView",
      "align_content": null,
      "align_items": null,
      "align_self": null,
      "border": null,
      "bottom": null,
      "display": null,
      "flex": null,
      "flex_flow": null,
      "grid_area": null,
      "grid_auto_columns": null,
      "grid_auto_flow": null,
      "grid_auto_rows": null,
      "grid_column": null,
      "grid_gap": null,
      "grid_row": null,
      "grid_template_areas": null,
      "grid_template_columns": null,
      "grid_template_rows": null,
      "height": null,
      "justify_content": null,
      "justify_items": null,
      "left": null,
      "margin": null,
      "max_height": null,
      "max_width": null,
      "min_height": null,
      "min_width": null,
      "object_fit": null,
      "object_position": null,
      "order": null,
      "overflow": null,
      "overflow_x": null,
      "overflow_y": null,
      "padding": null,
      "right": null,
      "top": null,
      "visibility": null,
      "width": null
     }
    },
    "81b69984f86249eb9ccbe1da2a7c589d": {
     "model_module": "@jupyter-widgets/controls",
     "model_module_version": "1.5.0",
     "model_name": "HTMLModel",
     "state": {
      "_dom_classes": [],
      "_model_module": "@jupyter-widgets/controls",
      "_model_module_version": "1.5.0",
      "_model_name": "HTMLModel",
      "_view_count": null,
      "_view_module": "@jupyter-widgets/controls",
      "_view_module_version": "1.5.0",
      "_view_name": "HTMLView",
      "description": "",
      "description_tooltip": null,
      "layout": "IPY_MODEL_d5c1113d75394dc7a47f668811c25c58",
      "placeholder": "​",
      "style": "IPY_MODEL_b63df51a4ec3464a8b1ff907d3fc7827",
      "value": " 21.8M/21.8M [00:01&lt;00:00, 26.9MB/s]"
     }
    },
    "84ce0fa9fcbe45a7a41af32dbdf34ef9": {
     "model_module": "@jupyter-widgets/base",
     "model_module_version": "1.2.0",
     "model_name": "LayoutModel",
     "state": {
      "_model_module": "@jupyter-widgets/base",
      "_model_module_version": "1.2.0",
      "_model_name": "LayoutModel",
      "_view_count": null,
      "_view_module": "@jupyter-widgets/base",
      "_view_module_version": "1.2.0",
      "_view_name": "LayoutView",
      "align_content": null,
      "align_items": null,
      "align_self": null,
      "border": null,
      "bottom": null,
      "display": null,
      "flex": null,
      "flex_flow": null,
      "grid_area": null,
      "grid_auto_columns": null,
      "grid_auto_flow": null,
      "grid_auto_rows": null,
      "grid_column": null,
      "grid_gap": null,
      "grid_row": null,
      "grid_template_areas": null,
      "grid_template_columns": null,
      "grid_template_rows": null,
      "height": null,
      "justify_content": null,
      "justify_items": null,
      "left": null,
      "margin": null,
      "max_height": null,
      "max_width": null,
      "min_height": null,
      "min_width": null,
      "object_fit": null,
      "object_position": null,
      "order": null,
      "overflow": null,
      "overflow_x": null,
      "overflow_y": null,
      "padding": null,
      "right": null,
      "top": null,
      "visibility": null,
      "width": null
     }
    },
    "882e28d1e358460b8fb639c3b2bd0740": {
     "model_module": "@jupyter-widgets/controls",
     "model_module_version": "1.5.0",
     "model_name": "ProgressStyleModel",
     "state": {
      "_model_module": "@jupyter-widgets/controls",
      "_model_module_version": "1.5.0",
      "_model_name": "ProgressStyleModel",
      "_view_count": null,
      "_view_module": "@jupyter-widgets/base",
      "_view_module_version": "1.2.0",
      "_view_name": "StyleView",
      "bar_color": null,
      "description_width": ""
     }
    },
    "88dc4f79299043eea8575dd99c5664b1": {
     "model_module": "@jupyter-widgets/base",
     "model_module_version": "1.2.0",
     "model_name": "LayoutModel",
     "state": {
      "_model_module": "@jupyter-widgets/base",
      "_model_module_version": "1.2.0",
      "_model_name": "LayoutModel",
      "_view_count": null,
      "_view_module": "@jupyter-widgets/base",
      "_view_module_version": "1.2.0",
      "_view_name": "LayoutView",
      "align_content": null,
      "align_items": null,
      "align_self": null,
      "border": null,
      "bottom": null,
      "display": null,
      "flex": null,
      "flex_flow": null,
      "grid_area": null,
      "grid_auto_columns": null,
      "grid_auto_flow": null,
      "grid_auto_rows": null,
      "grid_column": null,
      "grid_gap": null,
      "grid_row": null,
      "grid_template_areas": null,
      "grid_template_columns": null,
      "grid_template_rows": null,
      "height": null,
      "justify_content": null,
      "justify_items": null,
      "left": null,
      "margin": null,
      "max_height": null,
      "max_width": null,
      "min_height": null,
      "min_width": null,
      "object_fit": null,
      "object_position": null,
      "order": null,
      "overflow": null,
      "overflow_x": null,
      "overflow_y": null,
      "padding": null,
      "right": null,
      "top": null,
      "visibility": null,
      "width": null
     }
    },
    "92ebd9c92f6b454aa29b04b20c25c15b": {
     "model_module": "@jupyter-widgets/controls",
     "model_module_version": "1.5.0",
     "model_name": "HBoxModel",
     "state": {
      "_dom_classes": [],
      "_model_module": "@jupyter-widgets/controls",
      "_model_module_version": "1.5.0",
      "_model_name": "HBoxModel",
      "_view_count": null,
      "_view_module": "@jupyter-widgets/controls",
      "_view_module_version": "1.5.0",
      "_view_name": "HBoxView",
      "box_style": "",
      "children": [
       "IPY_MODEL_f6aa5eaa48ae4e2f9fcedd61ef21fe5d",
       "IPY_MODEL_39137584e0ec4d24acdd4b9caed07376",
       "IPY_MODEL_3831975568af437b810367de4ac61a99"
      ],
      "layout": "IPY_MODEL_26cd7a3129f34b9b87df75e18e2986e0"
     }
    },
    "95be86d42c594950b5f6a6283e304813": {
     "model_module": "@jupyter-widgets/controls",
     "model_module_version": "1.5.0",
     "model_name": "ProgressStyleModel",
     "state": {
      "_model_module": "@jupyter-widgets/controls",
      "_model_module_version": "1.5.0",
      "_model_name": "ProgressStyleModel",
      "_view_count": null,
      "_view_module": "@jupyter-widgets/base",
      "_view_module_version": "1.2.0",
      "_view_name": "StyleView",
      "bar_color": null,
      "description_width": ""
     }
    },
    "977696a6a7704864ab8fcd6fbe33ac49": {
     "model_module": "@jupyter-widgets/base",
     "model_module_version": "1.2.0",
     "model_name": "LayoutModel",
     "state": {
      "_model_module": "@jupyter-widgets/base",
      "_model_module_version": "1.2.0",
      "_model_name": "LayoutModel",
      "_view_count": null,
      "_view_module": "@jupyter-widgets/base",
      "_view_module_version": "1.2.0",
      "_view_name": "LayoutView",
      "align_content": null,
      "align_items": null,
      "align_self": null,
      "border": null,
      "bottom": null,
      "display": null,
      "flex": null,
      "flex_flow": null,
      "grid_area": null,
      "grid_auto_columns": null,
      "grid_auto_flow": null,
      "grid_auto_rows": null,
      "grid_column": null,
      "grid_gap": null,
      "grid_row": null,
      "grid_template_areas": null,
      "grid_template_columns": null,
      "grid_template_rows": null,
      "height": null,
      "justify_content": null,
      "justify_items": null,
      "left": null,
      "margin": null,
      "max_height": null,
      "max_width": null,
      "min_height": null,
      "min_width": null,
      "object_fit": null,
      "object_position": null,
      "order": null,
      "overflow": null,
      "overflow_x": null,
      "overflow_y": null,
      "padding": null,
      "right": null,
      "top": null,
      "visibility": null,
      "width": null
     }
    },
    "a44969adcea14b4eb01e6ba40fadf063": {
     "model_module": "@jupyter-widgets/controls",
     "model_module_version": "1.5.0",
     "model_name": "FloatProgressModel",
     "state": {
      "_dom_classes": [],
      "_model_module": "@jupyter-widgets/controls",
      "_model_module_version": "1.5.0",
      "_model_name": "FloatProgressModel",
      "_view_count": null,
      "_view_module": "@jupyter-widgets/controls",
      "_view_module_version": "1.5.0",
      "_view_name": "ProgressView",
      "bar_style": "success",
      "description": "",
      "description_tooltip": null,
      "layout": "IPY_MODEL_dcba968dadf54213929b35cfd971a94a",
      "max": 1,
      "min": 0,
      "orientation": "horizontal",
      "style": "IPY_MODEL_95be86d42c594950b5f6a6283e304813",
      "value": 1
     }
    },
    "b63df51a4ec3464a8b1ff907d3fc7827": {
     "model_module": "@jupyter-widgets/controls",
     "model_module_version": "1.5.0",
     "model_name": "DescriptionStyleModel",
     "state": {
      "_model_module": "@jupyter-widgets/controls",
      "_model_module_version": "1.5.0",
      "_model_name": "DescriptionStyleModel",
      "_view_count": null,
      "_view_module": "@jupyter-widgets/base",
      "_view_module_version": "1.2.0",
      "_view_name": "StyleView",
      "description_width": ""
     }
    },
    "c7684d85473f4c29bb790f79390675cb": {
     "model_module": "@jupyter-widgets/base",
     "model_module_version": "1.2.0",
     "model_name": "LayoutModel",
     "state": {
      "_model_module": "@jupyter-widgets/base",
      "_model_module_version": "1.2.0",
      "_model_name": "LayoutModel",
      "_view_count": null,
      "_view_module": "@jupyter-widgets/base",
      "_view_module_version": "1.2.0",
      "_view_name": "LayoutView",
      "align_content": null,
      "align_items": null,
      "align_self": null,
      "border": null,
      "bottom": null,
      "display": null,
      "flex": null,
      "flex_flow": null,
      "grid_area": null,
      "grid_auto_columns": null,
      "grid_auto_flow": null,
      "grid_auto_rows": null,
      "grid_column": null,
      "grid_gap": null,
      "grid_row": null,
      "grid_template_areas": null,
      "grid_template_columns": null,
      "grid_template_rows": null,
      "height": null,
      "justify_content": null,
      "justify_items": null,
      "left": null,
      "margin": null,
      "max_height": null,
      "max_width": null,
      "min_height": null,
      "min_width": null,
      "object_fit": null,
      "object_position": null,
      "order": null,
      "overflow": null,
      "overflow_x": null,
      "overflow_y": null,
      "padding": null,
      "right": null,
      "top": null,
      "visibility": null,
      "width": null
     }
    },
    "d34c0f78fcc244dcad776f652719d2e5": {
     "model_module": "@jupyter-widgets/controls",
     "model_module_version": "1.5.0",
     "model_name": "HTMLModel",
     "state": {
      "_dom_classes": [],
      "_model_module": "@jupyter-widgets/controls",
      "_model_module_version": "1.5.0",
      "_model_name": "HTMLModel",
      "_view_count": null,
      "_view_module": "@jupyter-widgets/controls",
      "_view_module_version": "1.5.0",
      "_view_name": "HTMLView",
      "description": "",
      "description_tooltip": null,
      "layout": "IPY_MODEL_36d754527c574a2b93fde9905c9c22b5",
      "placeholder": "​",
      "style": "IPY_MODEL_0fce1c41f283460ab94acda2e6f3ec6d",
      "value": " 4.43k/? [00:00&lt;00:00, 285kB/s]"
     }
    },
    "d5c1113d75394dc7a47f668811c25c58": {
     "model_module": "@jupyter-widgets/base",
     "model_module_version": "1.2.0",
     "model_name": "LayoutModel",
     "state": {
      "_model_module": "@jupyter-widgets/base",
      "_model_module_version": "1.2.0",
      "_model_name": "LayoutModel",
      "_view_count": null,
      "_view_module": "@jupyter-widgets/base",
      "_view_module_version": "1.2.0",
      "_view_name": "LayoutView",
      "align_content": null,
      "align_items": null,
      "align_self": null,
      "border": null,
      "bottom": null,
      "display": null,
      "flex": null,
      "flex_flow": null,
      "grid_area": null,
      "grid_auto_columns": null,
      "grid_auto_flow": null,
      "grid_auto_rows": null,
      "grid_column": null,
      "grid_gap": null,
      "grid_row": null,
      "grid_template_areas": null,
      "grid_template_columns": null,
      "grid_template_rows": null,
      "height": null,
      "justify_content": null,
      "justify_items": null,
      "left": null,
      "margin": null,
      "max_height": null,
      "max_width": null,
      "min_height": null,
      "min_width": null,
      "object_fit": null,
      "object_position": null,
      "order": null,
      "overflow": null,
      "overflow_x": null,
      "overflow_y": null,
      "padding": null,
      "right": null,
      "top": null,
      "visibility": null,
      "width": null
     }
    },
    "d8858c675a19414180fccc4520242520": {
     "model_module": "@jupyter-widgets/controls",
     "model_module_version": "1.5.0",
     "model_name": "DescriptionStyleModel",
     "state": {
      "_model_module": "@jupyter-widgets/controls",
      "_model_module_version": "1.5.0",
      "_model_name": "DescriptionStyleModel",
      "_view_count": null,
      "_view_module": "@jupyter-widgets/base",
      "_view_module_version": "1.2.0",
      "_view_name": "StyleView",
      "description_width": ""
     }
    },
    "dcba968dadf54213929b35cfd971a94a": {
     "model_module": "@jupyter-widgets/base",
     "model_module_version": "1.2.0",
     "model_name": "LayoutModel",
     "state": {
      "_model_module": "@jupyter-widgets/base",
      "_model_module_version": "1.2.0",
      "_model_name": "LayoutModel",
      "_view_count": null,
      "_view_module": "@jupyter-widgets/base",
      "_view_module_version": "1.2.0",
      "_view_name": "LayoutView",
      "align_content": null,
      "align_items": null,
      "align_self": null,
      "border": null,
      "bottom": null,
      "display": null,
      "flex": null,
      "flex_flow": null,
      "grid_area": null,
      "grid_auto_columns": null,
      "grid_auto_flow": null,
      "grid_auto_rows": null,
      "grid_column": null,
      "grid_gap": null,
      "grid_row": null,
      "grid_template_areas": null,
      "grid_template_columns": null,
      "grid_template_rows": null,
      "height": null,
      "justify_content": null,
      "justify_items": null,
      "left": null,
      "margin": null,
      "max_height": null,
      "max_width": null,
      "min_height": null,
      "min_width": null,
      "object_fit": null,
      "object_position": null,
      "order": null,
      "overflow": null,
      "overflow_x": null,
      "overflow_y": null,
      "padding": null,
      "right": null,
      "top": null,
      "visibility": null,
      "width": "20px"
     }
    },
    "e250e50905264f8581e6483e64571663": {
     "model_module": "@jupyter-widgets/base",
     "model_module_version": "1.2.0",
     "model_name": "LayoutModel",
     "state": {
      "_model_module": "@jupyter-widgets/base",
      "_model_module_version": "1.2.0",
      "_model_name": "LayoutModel",
      "_view_count": null,
      "_view_module": "@jupyter-widgets/base",
      "_view_module_version": "1.2.0",
      "_view_name": "LayoutView",
      "align_content": null,
      "align_items": null,
      "align_self": null,
      "border": null,
      "bottom": null,
      "display": null,
      "flex": null,
      "flex_flow": null,
      "grid_area": null,
      "grid_auto_columns": null,
      "grid_auto_flow": null,
      "grid_auto_rows": null,
      "grid_column": null,
      "grid_gap": null,
      "grid_row": null,
      "grid_template_areas": null,
      "grid_template_columns": null,
      "grid_template_rows": null,
      "height": null,
      "justify_content": null,
      "justify_items": null,
      "left": null,
      "margin": null,
      "max_height": null,
      "max_width": null,
      "min_height": null,
      "min_width": null,
      "object_fit": null,
      "object_position": null,
      "order": null,
      "overflow": null,
      "overflow_x": null,
      "overflow_y": null,
      "padding": null,
      "right": null,
      "top": null,
      "visibility": null,
      "width": null
     }
    },
    "ec4560633638483397e2bf7e7d323414": {
     "model_module": "@jupyter-widgets/controls",
     "model_module_version": "1.5.0",
     "model_name": "DescriptionStyleModel",
     "state": {
      "_model_module": "@jupyter-widgets/controls",
      "_model_module_version": "1.5.0",
      "_model_name": "DescriptionStyleModel",
      "_view_count": null,
      "_view_module": "@jupyter-widgets/base",
      "_view_module_version": "1.2.0",
      "_view_name": "StyleView",
      "description_width": ""
     }
    },
    "f23fd072612240df88e6cf83e480a89b": {
     "model_module": "@jupyter-widgets/controls",
     "model_module_version": "1.5.0",
     "model_name": "ProgressStyleModel",
     "state": {
      "_model_module": "@jupyter-widgets/controls",
      "_model_module_version": "1.5.0",
      "_model_name": "ProgressStyleModel",
      "_view_count": null,
      "_view_module": "@jupyter-widgets/base",
      "_view_module_version": "1.2.0",
      "_view_name": "StyleView",
      "bar_color": null,
      "description_width": ""
     }
    },
    "f27a276c814b4117b55632d1af00554b": {
     "model_module": "@jupyter-widgets/base",
     "model_module_version": "1.2.0",
     "model_name": "LayoutModel",
     "state": {
      "_model_module": "@jupyter-widgets/base",
      "_model_module_version": "1.2.0",
      "_model_name": "LayoutModel",
      "_view_count": null,
      "_view_module": "@jupyter-widgets/base",
      "_view_module_version": "1.2.0",
      "_view_name": "LayoutView",
      "align_content": null,
      "align_items": null,
      "align_self": null,
      "border": null,
      "bottom": null,
      "display": null,
      "flex": null,
      "flex_flow": null,
      "grid_area": null,
      "grid_auto_columns": null,
      "grid_auto_flow": null,
      "grid_auto_rows": null,
      "grid_column": null,
      "grid_gap": null,
      "grid_row": null,
      "grid_template_areas": null,
      "grid_template_columns": null,
      "grid_template_rows": null,
      "height": null,
      "justify_content": null,
      "justify_items": null,
      "left": null,
      "margin": null,
      "max_height": null,
      "max_width": null,
      "min_height": null,
      "min_width": null,
      "object_fit": null,
      "object_position": null,
      "order": null,
      "overflow": null,
      "overflow_x": null,
      "overflow_y": null,
      "padding": null,
      "right": null,
      "top": null,
      "visibility": null,
      "width": null
     }
    },
    "f378b2768a4d4ce2834eba01580ec400": {
     "model_module": "@jupyter-widgets/controls",
     "model_module_version": "1.5.0",
     "model_name": "HTMLModel",
     "state": {
      "_dom_classes": [],
      "_model_module": "@jupyter-widgets/controls",
      "_model_module_version": "1.5.0",
      "_model_name": "HTMLModel",
      "_view_count": null,
      "_view_module": "@jupyter-widgets/controls",
      "_view_module_version": "1.5.0",
      "_view_name": "HTMLView",
      "description": "",
      "description_tooltip": null,
      "layout": "IPY_MODEL_77e1957c39534ee1a70961380d184baa",
      "placeholder": "​",
      "style": "IPY_MODEL_d8858c675a19414180fccc4520242520",
      "value": "sql_create_context_v4.json: 100%"
     }
    },
    "f6aa5eaa48ae4e2f9fcedd61ef21fe5d": {
     "model_module": "@jupyter-widgets/controls",
     "model_module_version": "1.5.0",
     "model_name": "HTMLModel",
     "state": {
      "_dom_classes": [],
      "_model_module": "@jupyter-widgets/controls",
      "_model_module_version": "1.5.0",
      "_model_name": "HTMLModel",
      "_view_count": null,
      "_view_module": "@jupyter-widgets/controls",
      "_view_module_version": "1.5.0",
      "_view_name": "HTMLView",
      "description": "",
      "description_tooltip": null,
      "layout": "IPY_MODEL_977696a6a7704864ab8fcd6fbe33ac49",
      "placeholder": "​",
      "style": "IPY_MODEL_7715c25e97d14750ab062b2e804a08a3",
      "value": "Generating train split: 100%"
     }
    }
   }
  }
 },
 "nbformat": 4,
 "nbformat_minor": 0
}
